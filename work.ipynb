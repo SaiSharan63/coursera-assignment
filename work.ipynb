{
 "cells": [
  {
   "cell_type": "markdown",
   "id": "cdf25f22-50c1-436d-bdae-ecd2a5ddfdb0",
   "metadata": {},
   "source": [
    "<h1> My Jupyter Notebook on IBM Watson Studio</h1>"
   ]
  },
  {
   "cell_type": "markdown",
   "id": "c8f5cc4f-3323-49c1-a1dc-bc15e2a5793d",
   "metadata": {},
   "source": [
    "<strong>Juluri Sai Sharan</strong>\n",
    "My desired occupaaton is Data Scientist"
   ]
  },
  {
   "cell_type": "markdown",
   "id": "5dfde509-ddd1-4eaa-986b-5e56964110bd",
   "metadata": {},
   "source": [
    "<em>I am interested in data science because i love to work with data and I am very curious about it</em>"
   ]
  },
  {
   "cell_type": "markdown",
   "id": "786fd20f-2054-400e-b1c3-17444e905a26",
   "metadata": {},
   "source": [
    "<h3> the below code shows sum of two numbers</h3>"
   ]
  },
  {
   "cell_type": "code",
   "execution_count": 1,
   "id": "6b4319e7-5dd9-44e5-be67-f01d17ef5ae0",
   "metadata": {},
   "outputs": [
    {
     "name": "stdout",
     "output_type": "stream",
     "text": [
      "12\n"
     ]
    }
   ],
   "source": [
    "a=8\n",
    "b=4\n",
    "print(a+b)"
   ]
  },
  {
   "cell_type": "markdown",
   "id": "e0cf2651-8dc5-4b8b-a09e-291bc6e6c5ff",
   "metadata": {},
   "source": [
    "<a href=\"python.org\">python</a> \n",
    "<hr>\n",
    "\n",
    "<table>\n",
    "    <tr>\n",
    "        <th>Name</th>\n",
    "        <th>Marks</th>\n",
    "    </tr>\n",
    "    <tr>\n",
    "        <td> sai</td>\n",
    "        <td> 99</td>\n",
    "    </tr>\n",
    "    </table>\n",
    "<hr>\n",
    "<strong> Failure is the stepping stone to success</strong>"
   ]
  },
  {
   "cell_type": "code",
   "execution_count": null,
   "id": "25f20553-4edd-4df6-830a-a40f6ed9f523",
   "metadata": {},
   "outputs": [],
   "source": []
  }
 ],
 "metadata": {
  "kernelspec": {
   "display_name": "Python",
   "language": "python",
   "name": "conda-env-python-py"
  },
  "language_info": {
   "codemirror_mode": {
    "name": "ipython",
    "version": 3
   },
   "file_extension": ".py",
   "mimetype": "text/x-python",
   "name": "python",
   "nbconvert_exporter": "python",
   "pygments_lexer": "ipython3",
   "version": "3.7.12"
  }
 },
 "nbformat": 4,
 "nbformat_minor": 5
}
